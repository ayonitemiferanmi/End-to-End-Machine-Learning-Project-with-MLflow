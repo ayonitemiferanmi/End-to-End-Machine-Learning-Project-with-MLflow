{
 "cells": [
  {
   "cell_type": "code",
   "execution_count": 1,
   "metadata": {},
   "outputs": [],
   "source": [
    "import os"
   ]
  },
  {
   "cell_type": "code",
   "execution_count": 2,
   "metadata": {},
   "outputs": [
    {
     "data": {
      "text/plain": [
       "'c:\\\\Users\\\\Rise Networks\\\\Desktop\\\\End-to-End-Machine-Learning-Project-with-MLflow\\\\research'"
      ]
     },
     "execution_count": 2,
     "metadata": {},
     "output_type": "execute_result"
    }
   ],
   "source": [
    "%pwd"
   ]
  },
  {
   "cell_type": "code",
   "execution_count": 3,
   "metadata": {},
   "outputs": [],
   "source": [
    "os.chdir(\"../\")"
   ]
  },
  {
   "cell_type": "code",
   "execution_count": 11,
   "metadata": {},
   "outputs": [
    {
     "data": {
      "text/plain": [
       "'c:\\\\Users\\\\Rise Networks\\\\Desktop\\\\End-to-End-Machine-Learning-Project-with-MLflow'"
      ]
     },
     "execution_count": 11,
     "metadata": {},
     "output_type": "execute_result"
    }
   ],
   "source": [
    "%pwd"
   ]
  },
  {
   "cell_type": "code",
   "execution_count": 5,
   "metadata": {},
   "outputs": [],
   "source": [
    "# Update the config entity\n",
    "from dataclasses import dataclass\n",
    "from pathlib import Path\n",
    "\n",
    "\n",
    "@dataclass(frozen=True)\n",
    "class ModelTrainingConfig:\n",
    "    root_dir: Path\n",
    "    train_data_path: Path\n",
    "    test_data_path: Path\n",
    "    model_name: str\n",
    "    alpha: float        # parameters for ElasticNet\n",
    "    l1_ratio: float     # parameters for ElasticNet\n",
    "    target_column: str  # parameters for ElasticNet"
   ]
  },
  {
   "cell_type": "code",
   "execution_count": 6,
   "metadata": {},
   "outputs": [],
   "source": [
    "# update the configuration manager in src config\n",
    "from src.mlProject.constants import *\n",
    "from src.mlProject.utils.common import read_yaml, create_directories\n",
    "\n",
    "\n",
    "class ConfigurationManager:\n",
    "    def __init__(\n",
    "        self,\n",
    "        config_filepath = CONFIG_FILE_PATH,\n",
    "        params_filepath = PARAMS_FILE_PATH,\n",
    "        schema_filepath = SCHEMA_FILE_PATH):\n",
    "\n",
    "        self.config = read_yaml(config_filepath)\n",
    "        self.params = read_yaml(params_filepath)\n",
    "        self.schema = read_yaml(schema_filepath)\n",
    "\n",
    "        create_directories([self.config.artifacts_root])\n",
    "\n",
    "\n",
    "    def get_model_training_config(self) -> ModelTrainingConfig:\n",
    "        config = self.config.model_training\n",
    "        params = self.params.ElasticNet\n",
    "        schema = self.schema.TARGET_COLUMN\n",
    "\n",
    "        create_directories([config.root_dir])\n",
    "\n",
    "        model_training_config = ModelTrainingConfig(\n",
    "            root_dir= config.root_dir,\n",
    "            train_data_path= config.train_data_path,\n",
    "            test_data_path= config.test_data_path,\n",
    "            model_name= config.model_name,\n",
    "            alpha=params.alpha,\n",
    "            l1_ratio=params.l1_ratio,\n",
    "            target_column=schema.name,\n",
    "        )\n",
    "\n",
    "        return model_training_config"
   ]
  },
  {
   "cell_type": "code",
   "execution_count": 7,
   "metadata": {},
   "outputs": [],
   "source": [
    "# updating the components\n",
    "import os\n",
    "import pandas as pd\n",
    "from sklearn.linear_model import ElasticNet\n",
    "from src.mlProject import logger\n",
    "import joblib\n",
    "\n",
    "class ModelTraining:\n",
    "    def __init__(self, config: ModelTrainingConfig):\n",
    "        self.config = config\n",
    "\n",
    "    def train_model(self):\n",
    "        train_data = pd.read_csv(self.config.train_data_path)\n",
    "        test_data = pd.read_csv(self.config.test_data_path)\n",
    "\n",
    "        X_train = train_data.drop([self.config.target_column], axis=1)\n",
    "        X_test = test_data.drop([self.config.target_column], axis=1)\n",
    "        y_train = train_data[[self.config.target_column]]\n",
    "        y_test = test_data[[self.config.target_column]]\n",
    "\n",
    "        # Creating the linear regression model using ElasticNet\n",
    "        lr = ElasticNet(alpha=self.config.alpha, l1_ratio=self.config.l1_ratio, random_state=42)\n",
    "        lr.fit(X_train, y_train)\n",
    "\n",
    "        # Saving the model using joblib\n",
    "        joblib.dump(lr, os.path.join(self.config.root_dir, self.config.model_name))\n"
   ]
  },
  {
   "cell_type": "code",
   "execution_count": 10,
   "metadata": {},
   "outputs": [
    {
     "name": "stdout",
     "output_type": "stream",
     "text": [
      "[2025-03-12 10:24:02,046: INFO: common: yaml file: config\\config.yaml loaded successfully]\n",
      "[2025-03-12 10:24:02,050: INFO: common: yaml file: params.yaml loaded successfully]\n",
      "[2025-03-12 10:24:02,057: INFO: common: yaml file: schema.yaml loaded successfully]\n",
      "[2025-03-12 10:24:02,060: INFO: common: Created directory at path: artifacts]\n",
      "[2025-03-12 10:24:02,063: INFO: common: Created directory at path: artifacts/model_training]\n"
     ]
    }
   ],
   "source": [
    "try:\n",
    "    config = ConfigurationManager()\n",
    "    model_training_config = config.get_model_training_config()\n",
    "    model_training_config = ModelTraining(config=model_training_config)\n",
    "    model_training_config.train_model()\n",
    "except Exception as e:\n",
    "    raise e"
   ]
  },
  {
   "cell_type": "code",
   "execution_count": null,
   "metadata": {},
   "outputs": [],
   "source": []
  }
 ],
 "metadata": {
  "kernelspec": {
   "display_name": "ml-proj",
   "language": "python",
   "name": "python3"
  },
  "language_info": {
   "codemirror_mode": {
    "name": "ipython",
    "version": 3
   },
   "file_extension": ".py",
   "mimetype": "text/x-python",
   "name": "python",
   "nbconvert_exporter": "python",
   "pygments_lexer": "ipython3",
   "version": "3.11.9"
  }
 },
 "nbformat": 4,
 "nbformat_minor": 2
}
